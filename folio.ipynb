{
 "cells": [
  {
   "cell_type": "markdown",
   "metadata": {},
   "source": [
    "## Identifying Need\n",
    "To create an engaging 2D platformer game that develops spacial awareness, fine motor skills and hand eye coordination for 10-20 year olds.\n",
    "## Problem Statement\n",
    "Teenagers of this age group often need a \n",
    "## Skill Development\n",
    "To develop the skill in unity needed to complete this game I will complete this tutorial https://www.youtube.com/watch?v=dYcf9_TdEW4&list=PLgXA5L5ma2BvEqzzeLnb7Q_4z8bz_cKmO\n",
    "## Requirement Outline\n",
    "* Inputs: The game will require the W,A,S,D keyboard comands for movement, the SHIFT keyboard comand for dashing, mouse inputs for aiming and attacking.\n",
    "## Functional Requirements\n",
    "* The player character can complete basic movement in reaction to inputs\n",
    "* the game lack bugs\n",
    "* the levels are completable by a standard consumer\n",
    "* the player character can be damaged\n",
    "* allow the player character to progress to the next level through a door\n",
    "* ledgibly display statistics relevant to gameplay\n",
    "## Non-Functional Requirements\n",
    "* the player character can complete advanced movement in reactio to inputs(Dash, double jump, coyote time)\n",
    "* the player character can ranged attack\n",
    "* the enemies have functional ai\n",
    "* the game's assets are aesthetically pleasing\n",
    "* the games's animations are smooth and correct\n",
    "* the game can run well even on a low end device\n",
    "\n",
    "\n",
    "\n"
   ]
  }
 ],
 "metadata": {
  "language_info": {
   "name": "python"
  }
 },
 "nbformat": 4,
 "nbformat_minor": 2
}
